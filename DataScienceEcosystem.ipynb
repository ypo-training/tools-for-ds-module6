{
 "cells": [
  {
   "cell_type": "markdown",
   "id": "9a945b2c-87ac-469f-9465-00aa79bcf188",
   "metadata": {},
   "source": [
    "# Data Science Tools and Ecosystem"
   ]
  },
  {
   "cell_type": "markdown",
   "id": "8ea676c4-8f88-4d0a-b745-88b10fbbda9c",
   "metadata": {},
   "source": [
    "In this notebook, Data Science Tools and Ecosystem are summarized."
   ]
  },
  {
   "cell_type": "markdown",
   "id": "ca491d4e-52ad-4465-82d7-7d33b13f8715",
   "metadata": {},
   "source": [
    "Some of the popular languages that Data Scientists use are:\n",
    "1. Python\n",
    "2. R\n",
    "3. Julia\n",
    "4. C++\n",
    "5. Java\n",
    "6. Scala\n",
    "7. SQL"
   ]
  },
  {
   "cell_type": "markdown",
   "id": "04b5d8db-d481-4188-8b8a-3cbd6c0a883d",
   "metadata": {},
   "source": [
    "Some of the commonly used libraries used by Data Scientists include:\n",
    "1. NumPy\n",
    "2. SciPy\n",
    "3. Scikit\n",
    "4. Pandas\n",
    "5. Matplotlib\n",
    "6. Seaborn\n",
    "7. Spark\n",
    "8. Keras\n",
    "9. Tensorflow\n",
    "10. Pytorch"
   ]
  },
  {
   "cell_type": "markdown",
   "id": "b08840a7-8398-47f5-9c5d-d4a405df2390",
   "metadata": {},
   "source": [
    "| Data Science Tools |\n",
    "|--------------------|\n",
    "| Apache AirFlow     |\n",
    "| Apache SparkSQL    |\n",
    "| Apache Superset    |"
   ]
  },
  {
   "cell_type": "markdown",
   "id": "04b7a74d-238e-4151-9d2f-158aaf6e8e6b",
   "metadata": {},
   "source": [
    "### Below are a few examples of evaluating arithmetic expressions in Python"
   ]
  },
  {
   "cell_type": "code",
   "execution_count": 9,
   "id": "c8e4ccd2-502c-44f5-bf05-f1fbfb1fad0c",
   "metadata": {},
   "outputs": [
    {
     "data": {
      "text/plain": [
       "17"
      ]
     },
     "execution_count": 9,
     "metadata": {},
     "output_type": "execute_result"
    }
   ],
   "source": [
    "# This a simple arithmetic expression to mutiply then add integers\n",
    "(3*4)+5"
   ]
  },
  {
   "cell_type": "code",
   "execution_count": 11,
   "id": "ed2ab55c-d27e-4833-9506-4baaa6e544c7",
   "metadata": {},
   "outputs": [
    {
     "data": {
      "text/plain": [
       "3.3333333333333335"
      ]
     },
     "execution_count": 11,
     "metadata": {},
     "output_type": "execute_result"
    }
   ],
   "source": [
    "# This will convert 200 minutes to hours by diving by 60\n",
    "200/60"
   ]
  },
  {
   "cell_type": "markdown",
   "id": "6647ddde-f15d-4c15-a0bf-7427e6baa31d",
   "metadata": {},
   "source": [
    "Objectives:\n",
    "- List popular languages for Data Science\n",
    "- Commonly used libraries in Data Science\n",
    "- Evaluating arithmetic expressions in Python\n",
    "- List Objectives covered by this notebook"
   ]
  },
  {
   "cell_type": "markdown",
   "id": "4771c978-4bcd-40c4-8e54-8164ff0ed107",
   "metadata": {},
   "source": [
    "## Author\n",
    "Yves Poli"
   ]
  },
  {
   "cell_type": "code",
   "execution_count": null,
   "id": "4678252b-6b5f-4bf2-8eab-6fc69dc3bdea",
   "metadata": {},
   "outputs": [],
   "source": []
  }
 ],
 "metadata": {
  "kernelspec": {
   "display_name": "Python 3 (ipykernel)",
   "language": "python",
   "name": "python3"
  },
  "language_info": {
   "codemirror_mode": {
    "name": "ipython",
    "version": 3
   },
   "file_extension": ".py",
   "mimetype": "text/x-python",
   "name": "python",
   "nbconvert_exporter": "python",
   "pygments_lexer": "ipython3",
   "version": "3.11.9"
  }
 },
 "nbformat": 4,
 "nbformat_minor": 5
}
